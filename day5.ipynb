{
  "nbformat": 4,
  "nbformat_minor": 0,
  "metadata": {
    "colab": {
      "name": "day5.ipynb",
      "provenance": [],
      "collapsed_sections": [],
      "include_colab_link": true
    },
    "kernelspec": {
      "name": "python3",
      "display_name": "Python 3"
    },
    "accelerator": "GPU"
  },
  "cells": [
    {
      "cell_type": "markdown",
      "metadata": {
        "id": "view-in-github",
        "colab_type": "text"
      },
      "source": [
        "<a href=\"https://colab.research.google.com/github/dominikblaszczykiewicz/dw_matrix_road_sign/blob/master/day5.ipynb\" target=\"_parent\"><img src=\"https://colab.research.google.com/assets/colab-badge.svg\" alt=\"Open In Colab\"/></a>"
      ]
    },
    {
      "cell_type": "code",
      "metadata": {
        "id": "avSSC6Q7BBIB",
        "colab_type": "code",
        "outputId": "efb6e5eb-717d-441d-84c5-c5336bb1c84f",
        "colab": {
          "base_uri": "https://localhost:8080/",
          "height": 170
        }
      },
      "source": [
        "!pip install hyperopt"
      ],
      "execution_count": 2,
      "outputs": [
        {
          "output_type": "stream",
          "text": [
            "Requirement already satisfied: hyperopt in /usr/local/lib/python3.6/dist-packages (0.1.2)\n",
            "Requirement already satisfied: six in /usr/local/lib/python3.6/dist-packages (from hyperopt) (1.12.0)\n",
            "Requirement already satisfied: numpy in /usr/local/lib/python3.6/dist-packages (from hyperopt) (1.18.2)\n",
            "Requirement already satisfied: tqdm in /usr/local/lib/python3.6/dist-packages (from hyperopt) (4.38.0)\n",
            "Requirement already satisfied: networkx in /usr/local/lib/python3.6/dist-packages (from hyperopt) (2.4)\n",
            "Requirement already satisfied: future in /usr/local/lib/python3.6/dist-packages (from hyperopt) (0.16.0)\n",
            "Requirement already satisfied: scipy in /usr/local/lib/python3.6/dist-packages (from hyperopt) (1.4.1)\n",
            "Requirement already satisfied: pymongo in /usr/local/lib/python3.6/dist-packages (from hyperopt) (3.10.1)\n",
            "Requirement already satisfied: decorator>=4.3.0 in /usr/local/lib/python3.6/dist-packages (from networkx->hyperopt) (4.4.2)\n"
          ],
          "name": "stdout"
        }
      ]
    },
    {
      "cell_type": "code",
      "metadata": {
        "id": "lQxXFYTUsg2n",
        "colab_type": "code",
        "colab": {
          "base_uri": "https://localhost:8080/",
          "height": 122
        },
        "outputId": "056f0b2f-426b-4caf-a541-0af323b18a6c"
      },
      "source": [
        "from google.colab import drive\n",
        "drive.mount('/content/drive')"
      ],
      "execution_count": 1,
      "outputs": [
        {
          "output_type": "stream",
          "text": [
            "Go to this URL in a browser: https://accounts.google.com/o/oauth2/auth?client_id=947318989803-6bn6qk8qdgf4n4g3pfee6491hc0brc4i.apps.googleusercontent.com&redirect_uri=urn%3aietf%3awg%3aoauth%3a2.0%3aoob&response_type=code&scope=email%20https%3a%2f%2fwww.googleapis.com%2fauth%2fdocs.test%20https%3a%2f%2fwww.googleapis.com%2fauth%2fdrive%20https%3a%2f%2fwww.googleapis.com%2fauth%2fdrive.photos.readonly%20https%3a%2f%2fwww.googleapis.com%2fauth%2fpeopleapi.readonly\n",
            "\n",
            "Enter your authorization code:\n",
            "··········\n",
            "Mounted at /content/drive\n"
          ],
          "name": "stdout"
        }
      ]
    },
    {
      "cell_type": "code",
      "metadata": {
        "id": "TVda5eN8Bak7",
        "colab_type": "code",
        "colab": {}
      },
      "source": [
        "import pandas as pd\n",
        "import numpy as np\n",
        "\n",
        "import os, datetime\n",
        "\n",
        "import tensorflow as tf\n",
        "from tensorflow.keras.models import Sequential\n",
        "from tensorflow.keras.layers import Conv2D, MaxPool2D, Dense, Flatten, Dropout\n",
        "from tensorflow.keras.utils import to_categorical\n",
        "\n",
        "import matplotlib.pyplot as plt\n",
        "\n",
        "from skimage import color, exposure\n",
        "\n",
        "from sklearn.metrics import accuracy_score\n",
        "\n",
        "from hyperopt import hp, STATUS_OK, tpe, Trials, fmin\n",
        "\n",
        "%load_ext tensorboard"
      ],
      "execution_count": 0,
      "outputs": []
    },
    {
      "cell_type": "code",
      "metadata": {
        "id": "MD44dQOVCUvZ",
        "colab_type": "code",
        "outputId": "bec1b2ae-bd8a-4e8d-f570-8d0d76228117",
        "colab": {
          "base_uri": "https://localhost:8080/",
          "height": 34
        }
      },
      "source": [
        "cd '/content/drive/My Drive/Colab Notebooks/dw_matrix/dw_matrix_three/dw_matrix_road_sign'"
      ],
      "execution_count": 4,
      "outputs": [
        {
          "output_type": "stream",
          "text": [
            "/content/drive/My Drive/Colab Notebooks/dw_matrix/dw_matrix_three/dw_matrix_road_sign\n"
          ],
          "name": "stdout"
        }
      ]
    },
    {
      "cell_type": "code",
      "metadata": {
        "id": "bzOo98eeChTP",
        "colab_type": "code",
        "colab": {}
      },
      "source": [
        "train = pd.read_pickle('data/train.p')\n",
        "test = pd.read_pickle('data/test.p')\n",
        "\n",
        "X_train, y_train = train['features'], train['labels']\n",
        "X_test, y_test = test['features'], test['labels']"
      ],
      "execution_count": 0,
      "outputs": []
    },
    {
      "cell_type": "code",
      "metadata": {
        "id": "dMkLowmnCr9M",
        "colab_type": "code",
        "colab": {}
      },
      "source": [
        "if y_train.ndim ==1: y_train = to_categorical(y_train)\n",
        "if y_test.ndim ==1: y_test = to_categorical(y_test)\n",
        "\n",
        "input_shape = X_train.shape[1:]\n",
        "num_classes = y_train.shape[1]"
      ],
      "execution_count": 0,
      "outputs": []
    },
    {
      "cell_type": "code",
      "metadata": {
        "id": "PEu-dNVkCwxm",
        "colab_type": "code",
        "colab": {}
      },
      "source": [
        "def train_model(model, X_train, y_train, params_fit={}):\n",
        "  model.compile(loss='categorical_crossentropy', optimizer='Adam', metrics=['accuracy'])\n",
        "\n",
        "  logdir = os.path.join('logs', datetime.datetime.now().strftime('%Y%m%d-%H%M%S'))\n",
        "  tensorboard_callback = tf.keras.callbacks.TensorBoard(logdir, histogram_freq=1)\n",
        "  \n",
        "  model.fit(\n",
        "      X_train, \n",
        "      y_train,\n",
        "      batch_size = params_fit.get('batch_size', 128),\n",
        "      epochs = params_fit.get('epochs',5),\n",
        "      verbose = params_fit.get('verbose', 1),\n",
        "      validation_data = params_fit.get('validation_data',(X_train, y_train)),\n",
        "      callbacks = [tensorboard_callback]\n",
        "      )\n",
        "  \n",
        "  return model\n",
        "\n",
        "def predict(model_trained, X_test, y_test, scoring=accuracy_score):\n",
        "  y_test_norm = np.argmax(y_test, axis=1)\n",
        "\n",
        "  y_pred_prob = model_trained.predict(X_test)\n",
        "  y_pred = np.argmax(y_pred_prob, axis=1)\n",
        "\n",
        "  return scoring(y_test_norm, y_pred)"
      ],
      "execution_count": 0,
      "outputs": []
    },
    {
      "cell_type": "code",
      "metadata": {
        "id": "GVn5Mee6DeBQ",
        "colab_type": "code",
        "colab": {}
      },
      "source": [
        "def get_cnn_v5(input_shape, num_classes):\n",
        "  return Sequential([\n",
        "    Conv2D(filters=32, kernel_size=(3,3), activation='relu', input_shape = input_shape),\n",
        "    Conv2D(filters=32, kernel_size=(3,3), activation='relu', padding='same'),\n",
        "    Conv2D(filters=32, kernel_size=(3,3), activation='relu', padding='same'),\n",
        "    MaxPool2D(),\n",
        "    Dropout(0.3),\n",
        "\n",
        "    Conv2D(filters=64, kernel_size=(3,3), activation='relu', padding='same'),\n",
        "    Conv2D(filters=64, kernel_size=(3,3), activation='relu', padding='same'),\n",
        "    Conv2D(filters=64, kernel_size=(3,3), activation='relu'),\n",
        "    MaxPool2D(),\n",
        "    Dropout(0.3),\n",
        "\n",
        "    Conv2D(filters=128, kernel_size=(3,3), activation='relu', padding='same'),\n",
        "    Conv2D(filters=128, kernel_size=(3,3), activation='relu', padding='same'),\n",
        "    Conv2D(filters=128, kernel_size=(3,3), activation='relu'),\n",
        "    MaxPool2D(),\n",
        "    Dropout(0.3),\n",
        "\n",
        "    Flatten(),\n",
        "\n",
        "    Dense(units = 1024, activation='relu'),  \n",
        "    Dropout(0.3),\n",
        "\n",
        "    Dense(units = 1024, activation='relu'),  \n",
        "    Dropout(0.3),\n",
        "\n",
        "    Dense(units = num_classes, activation='softmax'),                \n",
        "  ])"
      ],
      "execution_count": 0,
      "outputs": []
    },
    {
      "cell_type": "code",
      "metadata": {
        "id": "XK3gIEQoDfjg",
        "colab_type": "code",
        "outputId": "badc1903-183b-4e08-8795-c35eeb964044",
        "colab": {
          "base_uri": "https://localhost:8080/",
          "height": 204
        }
      },
      "source": [
        "model = get_cnn_v5(input_shape, num_classes)\n",
        "model_trained = train_model(model, X_train, y_train)\n",
        "predict(model_trained, X_test, y_test)"
      ],
      "execution_count": 26,
      "outputs": [
        {
          "output_type": "stream",
          "text": [
            "Epoch 1/5\n",
            "272/272 [==============================] - 6s 22ms/step - loss: 2.4262 - accuracy: 0.3219 - val_loss: 0.6585 - val_accuracy: 0.7973\n",
            "Epoch 2/5\n",
            "272/272 [==============================] - 6s 21ms/step - loss: 0.4867 - accuracy: 0.8477 - val_loss: 0.1337 - val_accuracy: 0.9609\n",
            "Epoch 3/5\n",
            "272/272 [==============================] - 6s 22ms/step - loss: 0.2181 - accuracy: 0.9342 - val_loss: 0.0568 - val_accuracy: 0.9845\n",
            "Epoch 4/5\n",
            "272/272 [==============================] - 6s 21ms/step - loss: 0.1444 - accuracy: 0.9577 - val_loss: 0.0459 - val_accuracy: 0.9867\n",
            "Epoch 5/5\n",
            "272/272 [==============================] - 6s 21ms/step - loss: 0.1116 - accuracy: 0.9690 - val_loss: 0.0270 - val_accuracy: 0.9924\n"
          ],
          "name": "stdout"
        },
        {
          "output_type": "execute_result",
          "data": {
            "text/plain": [
              "0.9643990929705215"
            ]
          },
          "metadata": {
            "tags": []
          },
          "execution_count": 26
        }
      ]
    },
    {
      "cell_type": "code",
      "metadata": {
        "id": "ZICQhDcTE-KO",
        "colab_type": "code",
        "outputId": "59ed3370-81b4-4fab-dcfa-815ff9c27d1e",
        "colab": {
          "base_uri": "https://localhost:8080/",
          "height": 51
        }
      },
      "source": [
        "model_trained.evaluate(X_test, y_test)[1]"
      ],
      "execution_count": 27,
      "outputs": [
        {
          "output_type": "stream",
          "text": [
            "138/138 [==============================] - 1s 4ms/step - loss: 0.1711 - accuracy: 0.9644\n"
          ],
          "name": "stdout"
        },
        {
          "output_type": "execute_result",
          "data": {
            "text/plain": [
              "0.9643990993499756"
            ]
          },
          "metadata": {
            "tags": []
          },
          "execution_count": 27
        }
      ]
    },
    {
      "cell_type": "code",
      "metadata": {
        "id": "LUWsjnl2IXdo",
        "colab_type": "code",
        "colab": {}
      },
      "source": [
        "def get_model(params):\n",
        "  return Sequential([\n",
        "                     \n",
        "    Conv2D(filters=32, kernel_size=(3,3), activation='relu', input_shape=input_shape),\n",
        "    Conv2D(filters=32, kernel_size=(3,3), activation='relu', padding='same'),\n",
        "    MaxPool2D(),\n",
        "    Dropout(params['dropout_cnn_block_1']),\n",
        "    \n",
        "    Conv2D(filters=64, kernel_size=(3,3), activation='relu', padding='same'),\n",
        "    Conv2D(filters=64, kernel_size=(3,3), activation='relu'),\n",
        "    MaxPool2D(),\n",
        "    Dropout(params['dropout_cnn_block_2']),\n",
        "    \n",
        "    Conv2D(filters=128, kernel_size=(3,3), activation='relu', padding='same'),\n",
        "    Conv2D(filters=128, kernel_size=(3,3), activation='relu'),\n",
        "    MaxPool2D(),\n",
        "    Dropout(params['dropout_cnn_block_3']),\n",
        "    \n",
        "    Flatten(),\n",
        "    \n",
        "    Dense(1024, activation='relu'),\n",
        "    Dropout(params['dropout_dense_block_1']),\n",
        "    \n",
        "    Dense(1024, activation='relu'),\n",
        "    Dropout(params['dropout_dense_block_2']),\n",
        "    \n",
        "    Dense(num_classes, activation='softmax')\n",
        "\n",
        "  ])"
      ],
      "execution_count": 0,
      "outputs": []
    },
    {
      "cell_type": "code",
      "metadata": {
        "id": "UWNWieKrD_e_",
        "colab_type": "code",
        "colab": {}
      },
      "source": [
        "def func_obj(params):\n",
        "  get_model(params)\n",
        "  model.compile(loss='categorical_crossentropy', \n",
        "                optimizer='Adam', \n",
        "                metrics=['accuracy']\n",
        "                )\n",
        "  \n",
        "  model.fit(\n",
        "      X_train,\n",
        "      y_train,\n",
        "      batch_size=int(params.get('batch_size', 128)), \n",
        "      # epochs=7,\n",
        "      epochs = int(params.get('epochs', 7)),   \n",
        "      verbose=0,          \n",
        "  )\n",
        "\n",
        "  score = model.evaluate(X_test, y_test,verbose=0)\n",
        "  accuracy = score[1]\n",
        "  print(params, 'accuracy={}'.format(accuracy))\n",
        "  return {'loss': -accuracy, 'status': STATUS_OK, 'model': model}"
      ],
      "execution_count": 0,
      "outputs": []
    },
    {
      "cell_type": "code",
      "metadata": {
        "id": "nBNNE25IGvgr",
        "colab_type": "code",
        "outputId": "ab25572b-ee9d-4af2-e408-5ae629be4cca",
        "colab": {
          "base_uri": "https://localhost:8080/",
          "height": 1000
        }
      },
      "source": [
        "space = {\n",
        "      'batch_size': hp.quniform('batch_size', 100, 200, 10),\n",
        "      'dropout_cnn_block_1': hp.uniform('dropout_cnn_block_1', 0.3, 0.5),\n",
        "      'dropout_cnn_block_2': hp.uniform('dropout_cnn_block_2', 0.3, 0.5),\n",
        "      'dropout_cnn_block_3': hp.uniform('dropout_cnn_block_3', 0.3, 0.5),\n",
        "      'dropout_dense_block_1': hp.uniform('dropout_dense_block_1', 0.3, 0.7),\n",
        "      'dropout_dense_block_2': hp.uniform('dropout_dense_block_2', 0.3, 0.7),\n",
        "}\n",
        "\n",
        "best = fmin(\n",
        "    func_obj,\n",
        "    space,\n",
        "    tpe.suggest,\n",
        "    30,\n",
        "    Trials()\n",
        ")x\n"
      ],
      "execution_count": 30,
      "outputs": [
        {
          "output_type": "stream",
          "text": [
            "{'batch_size': 130.0, 'dropout_cnn_block_1': 0.30886072061052505, 'dropout_cnn_block_2': 0.46137901497509193, 'dropout_cnn_block_3': 0.49841680621886875, 'dropout_dense_block_1': 0.6835240694931359, 'dropout_dense_block_2': 0.4827608147808576}\n",
            "accuracy=0.9709750413894653\n",
            "{'batch_size': 120.0, 'dropout_cnn_block_1': 0.4766610761697723, 'dropout_cnn_block_2': 0.3986001800656231, 'dropout_cnn_block_3': 0.45521116554639846, 'dropout_dense_block_1': 0.6719168017001893, 'dropout_dense_block_2': 0.6398834943153436}\n",
            "accuracy=0.9687075018882751\n",
            "{'batch_size': 100.0, 'dropout_cnn_block_1': 0.3844544851491682, 'dropout_cnn_block_2': 0.38062796943543864, 'dropout_cnn_block_3': 0.404274695142409, 'dropout_dense_block_1': 0.397615090307035, 'dropout_dense_block_2': 0.5001406907665598}\n",
            "accuracy=0.978004515171051\n",
            "{'batch_size': 170.0, 'dropout_cnn_block_1': 0.32328482780135487, 'dropout_cnn_block_2': 0.3822611718866084, 'dropout_cnn_block_3': 0.3027595687459745, 'dropout_dense_block_1': 0.5127504112337841, 'dropout_dense_block_2': 0.30892300016693924}\n",
            "accuracy=0.976190447807312\n",
            "{'batch_size': 140.0, 'dropout_cnn_block_1': 0.46581662215283826, 'dropout_cnn_block_2': 0.41996968534213946, 'dropout_cnn_block_3': 0.4405986066136053, 'dropout_dense_block_1': 0.5508746408913192, 'dropout_dense_block_2': 0.6098237464729095}\n",
            "accuracy=0.9814059138298035\n",
            "{'batch_size': 190.0, 'dropout_cnn_block_1': 0.4724450965215351, 'dropout_cnn_block_2': 0.4496494088340133, 'dropout_cnn_block_3': 0.3725564433145012, 'dropout_dense_block_1': 0.608619704807976, 'dropout_dense_block_2': 0.4999550416890882}\n",
            "accuracy=0.9818593859672546\n",
            "{'batch_size': 150.0, 'dropout_cnn_block_1': 0.4575996969905633, 'dropout_cnn_block_2': 0.3341432904570928, 'dropout_cnn_block_3': 0.35869279194290893, 'dropout_dense_block_1': 0.39935817313088695, 'dropout_dense_block_2': 0.38507503005394456}\n",
            "accuracy=0.9782313108444214\n",
            "{'batch_size': 110.0, 'dropout_cnn_block_1': 0.3120760363681459, 'dropout_cnn_block_2': 0.4419866938043264, 'dropout_cnn_block_3': 0.43794712466541974, 'dropout_dense_block_1': 0.4432310208002755, 'dropout_dense_block_2': 0.33537725248660505}\n",
            "accuracy=0.9811791181564331\n",
            "{'batch_size': 180.0, 'dropout_cnn_block_1': 0.4653876351877063, 'dropout_cnn_block_2': 0.3000604653015811, 'dropout_cnn_block_3': 0.46732671554211214, 'dropout_dense_block_1': 0.5660814817159797, 'dropout_dense_block_2': 0.3476179817964855}\n",
            "accuracy=0.9580498933792114\n",
            "{'batch_size': 120.0, 'dropout_cnn_block_1': 0.3551443209755308, 'dropout_cnn_block_2': 0.38123628113859265, 'dropout_cnn_block_3': 0.4961637748479113, 'dropout_dense_block_1': 0.6635509965211475, 'dropout_dense_block_2': 0.4123069898691419}\n",
            "accuracy=0.9707483053207397\n",
            "{'batch_size': 160.0, 'dropout_cnn_block_1': 0.45360263505195597, 'dropout_cnn_block_2': 0.31090971473546336, 'dropout_cnn_block_3': 0.4714192699209076, 'dropout_dense_block_1': 0.43349698738403286, 'dropout_dense_block_2': 0.6612060537612529}\n",
            "accuracy=0.976643979549408\n",
            "{'batch_size': 130.0, 'dropout_cnn_block_1': 0.3705174641414862, 'dropout_cnn_block_2': 0.35111884809640725, 'dropout_cnn_block_3': 0.3645423040370859, 'dropout_dense_block_1': 0.39475056847722956, 'dropout_dense_block_2': 0.6009638719883205}\n",
            "accuracy=0.976643979549408\n",
            "{'batch_size': 110.0, 'dropout_cnn_block_1': 0.3056014073824018, 'dropout_cnn_block_2': 0.4644833678357576, 'dropout_cnn_block_3': 0.45837696949171947, 'dropout_dense_block_1': 0.654755099247403, 'dropout_dense_block_2': 0.5989579603421455}\n",
            "accuracy=0.9709750413894653\n",
            "{'batch_size': 160.0, 'dropout_cnn_block_1': 0.4449252990456597, 'dropout_cnn_block_2': 0.3829232419516948, 'dropout_cnn_block_3': 0.34318942928452617, 'dropout_dense_block_1': 0.32953085555862366, 'dropout_dense_block_2': 0.5663282294467566}\n",
            "accuracy=0.05011337995529175\n",
            "{'batch_size': 150.0, 'dropout_cnn_block_1': 0.4836880794163693, 'dropout_cnn_block_2': 0.4795078871566483, 'dropout_cnn_block_3': 0.4093514354609423, 'dropout_dense_block_1': 0.412138089650917, 'dropout_dense_block_2': 0.5595396647889523}\n",
            "accuracy=0.9714285731315613\n",
            "{'batch_size': 150.0, 'dropout_cnn_block_1': 0.48129280501991867, 'dropout_cnn_block_2': 0.4146109359521014, 'dropout_cnn_block_3': 0.3940220434106048, 'dropout_dense_block_1': 0.5613633070521635, 'dropout_dense_block_2': 0.37914074253362323}\n",
            "accuracy=0.9487528204917908\n",
            "{'batch_size': 160.0, 'dropout_cnn_block_1': 0.4057195851305979, 'dropout_cnn_block_2': 0.45022896974995674, 'dropout_cnn_block_3': 0.39480464436931934, 'dropout_dense_block_1': 0.5509074555813427, 'dropout_dense_block_2': 0.6886461724877061}\n",
            "accuracy=0.9360544085502625\n",
            "{'batch_size': 170.0, 'dropout_cnn_block_1': 0.43295259463269975, 'dropout_cnn_block_2': 0.43187912553940955, 'dropout_cnn_block_3': 0.3765647044266861, 'dropout_dense_block_1': 0.5203233472712478, 'dropout_dense_block_2': 0.655635820225211}\n",
            "accuracy=0.8995465040206909\n",
            "{'batch_size': 170.0, 'dropout_cnn_block_1': 0.43444197927181033, 'dropout_cnn_block_2': 0.37746867872893863, 'dropout_cnn_block_3': 0.49418679826408407, 'dropout_dense_block_1': 0.5508429250716411, 'dropout_dense_block_2': 0.6680366644116051}\n",
            "accuracy=0.6814059019088745\n",
            "{'batch_size': 150.0, 'dropout_cnn_block_1': 0.35490286075993216, 'dropout_cnn_block_2': 0.3114068925573348, 'dropout_cnn_block_3': 0.4595640936656947, 'dropout_dense_block_1': 0.5193975332810346, 'dropout_dense_block_2': 0.3606306341653725}\n",
            "accuracy=0.0476190485060215\n",
            "{'batch_size': 190.0, 'dropout_cnn_block_1': 0.41162432907346996, 'dropout_cnn_block_2': 0.42338789859953097, 'dropout_cnn_block_3': 0.3210608575386931, 'dropout_dense_block_1': 0.608476058274802, 'dropout_dense_block_2': 0.468055530429452}\n",
            "accuracy=0.054421767592430115\n",
            "{'batch_size': 190.0, 'dropout_cnn_block_1': 0.49664373190116035, 'dropout_cnn_block_2': 0.48713620822436987, 'dropout_cnn_block_3': 0.4289042815634027, 'dropout_dense_block_1': 0.6213452691189169, 'dropout_dense_block_2': 0.5207998243639035}\n",
            "accuracy=0.054421767592430115\n",
            "{'batch_size': 140.0, 'dropout_cnn_block_1': 0.49786758176992174, 'dropout_cnn_block_2': 0.40836853669647527, 'dropout_cnn_block_3': 0.42172423782301993, 'dropout_dense_block_1': 0.6112557983038625, 'dropout_dense_block_2': 0.43617411645290033}\n",
            "accuracy=0.054421767592430115\n",
            "{'batch_size': 180.0, 'dropout_cnn_block_1': 0.421980429407679, 'dropout_cnn_block_2': 0.49611004544815396, 'dropout_cnn_block_3': 0.3272527345712562, 'dropout_dense_block_1': 0.4605574653604875, 'dropout_dense_block_2': 0.532225133315472}\n",
            "accuracy=0.054421767592430115\n",
            "{'batch_size': 140.0, 'dropout_cnn_block_1': 0.49981823064199293, 'dropout_cnn_block_2': 0.47238815084182595, 'dropout_cnn_block_3': 0.3747264857970864, 'dropout_dense_block_1': 0.4808202243428994, 'dropout_dense_block_2': 0.6137315634891858}\n",
            "accuracy=0.054421767592430115\n",
            "{'batch_size': 200.0, 'dropout_cnn_block_1': 0.4695788370522182, 'dropout_cnn_block_2': 0.44827486063553007, 'dropout_cnn_block_3': 0.38267400934823503, 'dropout_dense_block_1': 0.6311534735636692, 'dropout_dense_block_2': 0.45514860745873253}\n",
            "accuracy=0.054421767592430115\n",
            "{'batch_size': 200.0, 'dropout_cnn_block_1': 0.44068966069137927, 'dropout_cnn_block_2': 0.43263820717199686, 'dropout_cnn_block_3': 0.34825554282290866, 'dropout_dense_block_1': 0.5794129317035711, 'dropout_dense_block_2': 0.5578275468366339}\n",
            "accuracy=0.054421767592430115\n",
            "{'batch_size': 140.0, 'dropout_cnn_block_1': 0.3860681869190653, 'dropout_cnn_block_2': 0.4976332901067486, 'dropout_cnn_block_3': 0.4409034700878218, 'dropout_dense_block_1': 0.593659737987161, 'dropout_dense_block_2': 0.5167333691348347}\n",
            "accuracy=0.054421767592430115\n",
            "{'batch_size': 130.0, 'dropout_cnn_block_1': 0.42401038175509276, 'dropout_cnn_block_2': 0.35829745088593434, 'dropout_cnn_block_3': 0.4785119077362671, 'dropout_dense_block_1': 0.692768223672416, 'dropout_dense_block_2': 0.49127631968325064}\n",
            "accuracy=0.054421767592430115\n",
            "{'batch_size': 120.0, 'dropout_cnn_block_1': 0.4884831937070988, 'dropout_cnn_block_2': 0.45650621556019133, 'dropout_cnn_block_3': 0.4181708807611115, 'dropout_dense_block_1': 0.6983573916782576, 'dropout_dense_block_2': 0.580046184405562}\n",
            "accuracy=0.054421767592430115\n",
            "100%|██████████| 30/30 [11:02<00:00, 22.09s/it, best loss: -0.9818593859672546]\n"
          ],
          "name": "stdout"
        }
      ]
    },
    {
      "cell_type": "code",
      "metadata": {
        "id": "sPGfLIJfHv73",
        "colab_type": "code",
        "colab": {}
      },
      "source": [
        ""
      ],
      "execution_count": 0,
      "outputs": []
    }
  ]
}
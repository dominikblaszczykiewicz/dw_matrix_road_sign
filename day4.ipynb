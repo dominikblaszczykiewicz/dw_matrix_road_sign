{
  "nbformat": 4,
  "nbformat_minor": 0,
  "metadata": {
    "colab": {
      "name": "day4.ipynb",
      "provenance": [],
      "collapsed_sections": [],
      "include_colab_link": true
    },
    "kernelspec": {
      "name": "python3",
      "display_name": "Python 3"
    },
    "accelerator": "GPU"
  },
  "cells": [
    {
      "cell_type": "markdown",
      "metadata": {
        "id": "view-in-github",
        "colab_type": "text"
      },
      "source": [
        "<a href=\"https://colab.research.google.com/github/dominikblaszczykiewicz/dw_matrix_road_sign/blob/master/day4.ipynb\" target=\"_parent\"><img src=\"https://colab.research.google.com/assets/colab-badge.svg\" alt=\"Open In Colab\"/></a>"
      ]
    },
    {
      "cell_type": "code",
      "metadata": {
        "id": "Gd5rp2sYEMN3",
        "colab_type": "code",
        "colab": {}
      },
      "source": [
        "import pandas as pd\n",
        "import numpy as np\n",
        "\n",
        "import os, datetime\n",
        "\n",
        "import tensorflow as tf\n",
        "from tensorflow.keras.models import Sequential\n",
        "from tensorflow.keras.layers import Conv2D, MaxPool2D, Dense, Flatten, Dropout\n",
        "from tensorflow.keras.utils import to_categorical\n",
        "\n",
        "import matplotlib.pyplot as plt\n",
        "\n",
        "from skimage import color, exposure\n",
        "\n",
        "from sklearn.metrics import accuracy_score\n",
        "\n",
        "%load_ext tensorboard"
      ],
      "execution_count": 0,
      "outputs": []
    },
    {
      "cell_type": "code",
      "metadata": {
        "id": "_yxJ2Yj5Fqra",
        "colab_type": "code",
        "outputId": "01691e74-3cb2-4137-9d50-efdd4759279f",
        "colab": {
          "base_uri": "https://localhost:8080/",
          "height": 33
        }
      },
      "source": [
        "cd '/content/drive/My Drive/Colab Notebooks/dw_matrix/dw_matrix_three/dw_matrix_road_sign'"
      ],
      "execution_count": 3,
      "outputs": [
        {
          "output_type": "stream",
          "text": [
            "/content/drive/My Drive/Colab Notebooks/dw_matrix/dw_matrix_three/dw_matrix_road_sign\n"
          ],
          "name": "stdout"
        }
      ]
    },
    {
      "cell_type": "code",
      "metadata": {
        "id": "mgrpD952F2gi",
        "colab_type": "code",
        "colab": {}
      },
      "source": [
        "train = pd.read_pickle('data/train.p')\n",
        "test = pd.read_pickle('data/test.p')\n",
        "\n",
        "X_train, y_train = train['features'], train['labels']\n",
        "X_test, y_test = test['features'], test['labels']"
      ],
      "execution_count": 0,
      "outputs": []
    },
    {
      "cell_type": "code",
      "metadata": {
        "id": "LaPferNjGgO2",
        "colab_type": "code",
        "outputId": "48337029-e981-4a05-bfa2-b7e2761563b9",
        "colab": {
          "base_uri": "https://localhost:8080/",
          "height": 33
        }
      },
      "source": [
        "len(np.unique(y_train))"
      ],
      "execution_count": 5,
      "outputs": [
        {
          "output_type": "execute_result",
          "data": {
            "text/plain": [
              "43"
            ]
          },
          "metadata": {
            "tags": []
          },
          "execution_count": 5
        }
      ]
    },
    {
      "cell_type": "code",
      "metadata": {
        "id": "kDZiHwq3Ijct",
        "colab_type": "code",
        "outputId": "0a835163-0df5-4a74-c655-84a59bb3f52c",
        "colab": {
          "base_uri": "https://localhost:8080/",
          "height": 33
        }
      },
      "source": [
        "y_train"
      ],
      "execution_count": 6,
      "outputs": [
        {
          "output_type": "execute_result",
          "data": {
            "text/plain": [
              "array([41, 41, 41, ..., 25, 25, 25], dtype=uint8)"
            ]
          },
          "metadata": {
            "tags": []
          },
          "execution_count": 6
        }
      ]
    },
    {
      "cell_type": "code",
      "metadata": {
        "id": "TeWmGcxdI4Sr",
        "colab_type": "code",
        "outputId": "15eb52b0-7e2a-4d24-90da-1d146ba26616",
        "colab": {
          "base_uri": "https://localhost:8080/",
          "height": 33
        }
      },
      "source": [
        "y_train[0]"
      ],
      "execution_count": 7,
      "outputs": [
        {
          "output_type": "execute_result",
          "data": {
            "text/plain": [
              "41"
            ]
          },
          "metadata": {
            "tags": []
          },
          "execution_count": 7
        }
      ]
    },
    {
      "cell_type": "code",
      "metadata": {
        "id": "I1EFtVloJAtB",
        "colab_type": "code",
        "outputId": "2a958c9b-7af2-4fdc-911f-a1d2dd0d6a50",
        "colab": {
          "base_uri": "https://localhost:8080/",
          "height": 67
        }
      },
      "source": [
        "np.unique(y_train)"
      ],
      "execution_count": 8,
      "outputs": [
        {
          "output_type": "execute_result",
          "data": {
            "text/plain": [
              "array([ 0,  1,  2,  3,  4,  5,  6,  7,  8,  9, 10, 11, 12, 13, 14, 15, 16,\n",
              "       17, 18, 19, 20, 21, 22, 23, 24, 25, 26, 27, 28, 29, 30, 31, 32, 33,\n",
              "       34, 35, 36, 37, 38, 39, 40, 41, 42], dtype=uint8)"
            ]
          },
          "metadata": {
            "tags": []
          },
          "execution_count": 8
        }
      ]
    },
    {
      "cell_type": "code",
      "metadata": {
        "id": "FSiDG6PuIwuy",
        "colab_type": "code",
        "outputId": "1811da34-b3a6-4096-b0a8-781f0535be9f",
        "colab": {
          "base_uri": "https://localhost:8080/",
          "height": 67
        }
      },
      "source": [
        "to_categorical(y_train)[0]"
      ],
      "execution_count": 10,
      "outputs": [
        {
          "output_type": "execute_result",
          "data": {
            "text/plain": [
              "array([0., 0., 0., 0., 0., 0., 0., 0., 0., 0., 0., 0., 0., 0., 0., 0., 0.,\n",
              "       0., 0., 0., 0., 0., 0., 0., 0., 0., 0., 0., 0., 0., 0., 0., 0., 0.,\n",
              "       0., 0., 0., 0., 0., 0., 0., 1., 0.], dtype=float32)"
            ]
          },
          "metadata": {
            "tags": []
          },
          "execution_count": 10
        }
      ]
    },
    {
      "cell_type": "code",
      "metadata": {
        "id": "PBOz5qvmIz3-",
        "colab_type": "code",
        "outputId": "3f8efbad-9d30-4780-b91d-2fdcc4e893e1",
        "colab": {
          "base_uri": "https://localhost:8080/",
          "height": 33
        }
      },
      "source": [
        "y_train.ndim"
      ],
      "execution_count": 11,
      "outputs": [
        {
          "output_type": "execute_result",
          "data": {
            "text/plain": [
              "1"
            ]
          },
          "metadata": {
            "tags": []
          },
          "execution_count": 11
        }
      ]
    },
    {
      "cell_type": "code",
      "metadata": {
        "id": "nOrfsXjjJK5h",
        "colab_type": "code",
        "colab": {}
      },
      "source": [
        "if y_train.ndim ==1: y_train = to_categorical(y_train)\n",
        "if y_test.ndim ==1: y_test = to_categorical(y_test)"
      ],
      "execution_count": 0,
      "outputs": []
    },
    {
      "cell_type": "code",
      "metadata": {
        "id": "3StDmaYUJcQH",
        "colab_type": "code",
        "outputId": "376e23c3-d39b-4172-9af0-714050aeb444",
        "colab": {
          "base_uri": "https://localhost:8080/",
          "height": 33
        }
      },
      "source": [
        "y_train.shape"
      ],
      "execution_count": 13,
      "outputs": [
        {
          "output_type": "execute_result",
          "data": {
            "text/plain": [
              "(34799, 43)"
            ]
          },
          "metadata": {
            "tags": []
          },
          "execution_count": 13
        }
      ]
    },
    {
      "cell_type": "code",
      "metadata": {
        "id": "P19aQc42J9lU",
        "colab_type": "code",
        "outputId": "ecfe4f6f-9589-43d3-ce08-67abd9141a05",
        "colab": {
          "base_uri": "https://localhost:8080/",
          "height": 33
        }
      },
      "source": [
        "X_train.shape"
      ],
      "execution_count": 14,
      "outputs": [
        {
          "output_type": "execute_result",
          "data": {
            "text/plain": [
              "(34799, 32, 32, 3)"
            ]
          },
          "metadata": {
            "tags": []
          },
          "execution_count": 14
        }
      ]
    },
    {
      "cell_type": "code",
      "metadata": {
        "id": "Mdk07movKFgk",
        "colab_type": "code",
        "colab": {}
      },
      "source": [
        "input_shape = X_train.shape[1:]\n",
        "num_classes = y_train.shape[1]"
      ],
      "execution_count": 0,
      "outputs": []
    },
    {
      "cell_type": "code",
      "metadata": {
        "id": "8WiFMxWnJen6",
        "colab_type": "code",
        "outputId": "6cfe5e4f-0122-483f-cd47-e4f58e00251b",
        "colab": {
          "base_uri": "https://localhost:8080/",
          "height": 50
        }
      },
      "source": [
        "model = Sequential([\n",
        "   Conv2D(filters=64, kernel_size=(3,3), activation='relu', input_shape = input_shape),\n",
        "\n",
        "   Flatten(),\n",
        "\n",
        "   Dense(units = num_classes, activation='softmax'),                \n",
        "])\n",
        "\n",
        "# model.summary()\n",
        "\n",
        "model.compile(loss='categorical_crossentropy', optimizer='Adam', metrics=['accuracy'])\n",
        "model.fit(X_train, y_train)"
      ],
      "execution_count": 16,
      "outputs": [
        {
          "output_type": "stream",
          "text": [
            "1088/1088 [==============================] - 5s 4ms/step - loss: 5.8289 - accuracy: 0.7872\n"
          ],
          "name": "stdout"
        },
        {
          "output_type": "execute_result",
          "data": {
            "text/plain": [
              "<tensorflow.python.keras.callbacks.History at 0x7ff8b02561d0>"
            ]
          },
          "metadata": {
            "tags": []
          },
          "execution_count": 16
        }
      ]
    },
    {
      "cell_type": "code",
      "metadata": {
        "id": "mZUryZeKKxUI",
        "colab_type": "code",
        "colab": {}
      },
      "source": [
        "def get_cnn_v1(input_shape, num_classes):\n",
        "  return Sequential([\n",
        "    Conv2D(filters=64, kernel_size=(3,3), activation='relu', input_shape = input_shape),\n",
        "\n",
        "    Flatten(),\n",
        "\n",
        "    Dense(units = num_classes, activation='softmax'),                \n",
        "  ])\n",
        "  \n",
        "def train_model(model, X_train, y_train, params_fit={}):\n",
        "  model.compile(loss='categorical_crossentropy', optimizer='Adam', metrics=['accuracy'])\n",
        "\n",
        "  logdir = os.path.join('logs', datetime.datetime.now().strftime('%Y%m%d-%H%M%S'))\n",
        "  tensorboard_callback = tf.keras.callbacks.TensorBoard(logdir, histogram_freq=1)\n",
        "  \n",
        "  model.fit(\n",
        "      X_train, \n",
        "      y_train,\n",
        "      batch_size = params_fit.get('batch_size', 128),\n",
        "      epochs = params_fit.get('epochs',5),\n",
        "      verbose = params_fit.get('verbose', 1),\n",
        "      validation_data = params_fit.get('validation_data',(X_train, y_train)),\n",
        "      callbacks = [tensorboard_callback]\n",
        "      )\n",
        "  \n",
        "  return model"
      ],
      "execution_count": 0,
      "outputs": []
    },
    {
      "cell_type": "code",
      "metadata": {
        "id": "d20mFA6rMnNZ",
        "colab_type": "code",
        "outputId": "165e0179-b820-407b-e3bb-1a53dd400699",
        "colab": {
          "base_uri": "https://localhost:8080/",
          "height": 184
        }
      },
      "source": [
        "model = get_cnn_v1(input_shape, num_classes)\n",
        "model_trained = train_model(model, X_train, y_train)"
      ],
      "execution_count": 18,
      "outputs": [
        {
          "output_type": "stream",
          "text": [
            "Epoch 1/5\n",
            "272/272 [==============================] - 5s 17ms/step - loss: 44.3871 - accuracy: 0.7513 - val_loss: 0.2776 - val_accuracy: 0.9392\n",
            "Epoch 2/5\n",
            "272/272 [==============================] - 4s 16ms/step - loss: 0.2148 - accuracy: 0.9526 - val_loss: 0.1286 - val_accuracy: 0.9670\n",
            "Epoch 3/5\n",
            "272/272 [==============================] - 4s 16ms/step - loss: 0.1663 - accuracy: 0.9634 - val_loss: 0.1008 - val_accuracy: 0.9756\n",
            "Epoch 4/5\n",
            "272/272 [==============================] - 4s 16ms/step - loss: 0.1160 - accuracy: 0.9753 - val_loss: 0.1062 - val_accuracy: 0.9791\n",
            "Epoch 5/5\n",
            "272/272 [==============================] - 4s 16ms/step - loss: 0.1246 - accuracy: 0.9752 - val_loss: 0.0721 - val_accuracy: 0.9821\n"
          ],
          "name": "stdout"
        }
      ]
    },
    {
      "cell_type": "code",
      "metadata": {
        "id": "PBzRNgkqO4em",
        "colab_type": "code",
        "outputId": "8562e973-2274-4536-c7e6-73547a5b2a15",
        "colab": {
          "base_uri": "https://localhost:8080/",
          "height": 235
        }
      },
      "source": [
        "y_pred_prob = model_trained.predict(X_test)\n",
        "y_pred_prob"
      ],
      "execution_count": 19,
      "outputs": [
        {
          "output_type": "execute_result",
          "data": {
            "text/plain": [
              "array([[1.6940451e-11, 1.0891343e-05, 1.4897593e-05, ..., 2.0615626e-06,\n",
              "        4.6737310e-02, 9.8645905e-05],\n",
              "       [2.5295559e-09, 1.6830729e-06, 1.2609987e-04, ..., 1.9817985e-06,\n",
              "        9.4294137e-07, 6.8653758e-06],\n",
              "       [1.7814436e-11, 4.3220530e-06, 4.4091081e-05, ..., 1.1303253e-05,\n",
              "        3.1645589e-02, 4.6395004e-04],\n",
              "       ...,\n",
              "       [2.3025203e-02, 2.1894488e-02, 2.0413196e-02, ..., 8.9881022e-04,\n",
              "        1.4037457e-02, 2.3683559e-02],\n",
              "       [2.6885781e-03, 6.0839979e-03, 4.3861610e-03, ..., 4.0174185e-04,\n",
              "        4.0805629e-03, 2.2890298e-03],\n",
              "       [2.1972231e-04, 2.7200284e-03, 2.2878610e-03, ..., 9.8276199e-05,\n",
              "        3.2744522e-03, 4.5229757e-04]], dtype=float32)"
            ]
          },
          "metadata": {
            "tags": []
          },
          "execution_count": 19
        }
      ]
    },
    {
      "cell_type": "code",
      "metadata": {
        "id": "yACYFYw6O4h_",
        "colab_type": "code",
        "outputId": "c326de6d-81fa-484b-f8f1-bf5547f74a1b",
        "colab": {
          "base_uri": "https://localhost:8080/",
          "height": 201
        }
      },
      "source": [
        "y_pred_prob[400]"
      ],
      "execution_count": 20,
      "outputs": [
        {
          "output_type": "execute_result",
          "data": {
            "text/plain": [
              "array([1.15190260e-05, 9.99674916e-01, 4.10526268e-13, 1.33565617e-10,\n",
              "       3.13549739e-04, 6.69594913e-13, 6.24734317e-15, 8.48351809e-23,\n",
              "       1.46896332e-11, 6.80458252e-18, 1.47486618e-24, 5.06597319e-15,\n",
              "       3.85041922e-22, 2.84497090e-14, 1.48783284e-19, 1.09936244e-13,\n",
              "       4.82661701e-14, 1.95144235e-26, 1.17836272e-16, 5.43461719e-32,\n",
              "       7.31771420e-23, 2.72048474e-18, 3.47631766e-32, 4.30677507e-29,\n",
              "       4.45609342e-24, 8.42924994e-25, 5.96634333e-18, 1.17219928e-29,\n",
              "       3.11677724e-12, 1.36544174e-20, 1.37130824e-21, 7.42970266e-20,\n",
              "       1.03556756e-22, 3.31880876e-17, 2.79520182e-21, 1.84360916e-20,\n",
              "       0.00000000e+00, 1.56345958e-25, 8.42579198e-37, 7.50266593e-29,\n",
              "       9.98415488e-27, 1.00521075e-25, 1.09932900e-28], dtype=float32)"
            ]
          },
          "metadata": {
            "tags": []
          },
          "execution_count": 20
        }
      ]
    },
    {
      "cell_type": "code",
      "metadata": {
        "id": "KjKfb_HNSYN6",
        "colab_type": "code",
        "colab": {}
      },
      "source": [
        "df = pd.read_csv('data/signnames.csv')\n",
        "labels_dict = df.to_dict()['b']"
      ],
      "execution_count": 0,
      "outputs": []
    },
    {
      "cell_type": "code",
      "metadata": {
        "id": "0P1ZnCpCR_H8",
        "colab_type": "code",
        "outputId": "335d1789-1223-4097-872e-4182ab9f1706",
        "colab": {
          "base_uri": "https://localhost:8080/",
          "height": 33
        }
      },
      "source": [
        "labels_dict[ np.argmax(y_pred_prob[400]) ]"
      ],
      "execution_count": 22,
      "outputs": [
        {
          "output_type": "execute_result",
          "data": {
            "text/plain": [
              "'Speed limit (30km/h)'"
            ]
          },
          "metadata": {
            "tags": []
          },
          "execution_count": 22
        }
      ]
    },
    {
      "cell_type": "code",
      "metadata": {
        "id": "FgMbI5DmQ06W",
        "colab_type": "code",
        "outputId": "6055d540-e0a6-4c0c-811c-6c4e74c3424e",
        "colab": {
          "base_uri": "https://localhost:8080/",
          "height": 266
        }
      },
      "source": [
        "plt.imshow(X_test[400]);"
      ],
      "execution_count": 23,
      "outputs": [
        {
          "output_type": "display_data",
          "data": {
            "image/png": "[encoded data removed]",
            "text/plain": [
              "<Figure size 432x288 with 1 Axes>"
            ]
          },
          "metadata": {
            "tags": []
          }
        }
      ]
    },
    {
      "cell_type": "code",
      "metadata": {
        "id": "VOb_z5JGQ09m",
        "colab_type": "code",
        "outputId": "d6aeb589-15a1-4a17-93d7-082915ef1b10",
        "colab": {
          "base_uri": "https://localhost:8080/",
          "height": 282
        }
      },
      "source": [
        "plt.bar(range(43), y_pred_prob[400])\n",
        "#prawdopodobieństwo do jakiej grupy należy znak powyżej"
      ],
      "execution_count": 24,
      "outputs": [
        {
          "output_type": "execute_result",
          "data": {
            "text/plain": [
              "<BarContainer object of 43 artists>"
            ]
          },
          "metadata": {
            "tags": []
          },
          "execution_count": 24
        },
        {
          "output_type": "display_data",
          "data": {
            "image/png": "[encoded data removed]",
            "text/plain": [
              "<Figure size 432x288 with 1 Axes>"
            ]
          },
          "metadata": {
            "tags": []
          }
        }
      ]
    },
    {
      "cell_type": "code",
      "metadata": {
        "id": "skK2CZLpQ1BJ",
        "colab_type": "code",
        "colab": {}
      },
      "source": [
        "# omt po check\n",
        "\n",
        "def predict(model_trained, X_test, y_test, scoring=accuracy_score):\n",
        "  y_test_norm = np.argmax(y_test, axis=1)\n",
        "\n",
        "  y_pred_prob = model_trained.predict(X_test)\n",
        "  y_pred = np.argmax(y_pred_prob, axis=1)\n",
        "\n",
        "  return scoring(y_test_norm, y_pred)"
      ],
      "execution_count": 0,
      "outputs": []
    },
    {
      "cell_type": "markdown",
      "metadata": {
        "id": "2ENqN27NE_k7",
        "colab_type": "text"
      },
      "source": [
        "# **DALEJ WPROWADZAMY INŻYNIERIĘ MODELI ML**"
      ]
    },
    {
      "cell_type": "code",
      "metadata": {
        "id": "wa0mVbXMUYTE",
        "colab_type": "code",
        "outputId": "bb81644a-272f-4033-fc83-ad1b856df58a",
        "colab": {
          "base_uri": "https://localhost:8080/",
          "height": 33
        }
      },
      "source": [
        "predict(model_trained, X_test, y_test)"
      ],
      "execution_count": 26,
      "outputs": [
        {
          "output_type": "execute_result",
          "data": {
            "text/plain": [
              "0.8315192743764173"
            ]
          },
          "metadata": {
            "tags": []
          },
          "execution_count": 26
        }
      ]
    },
    {
      "cell_type": "code",
      "metadata": {
        "id": "rcBA7_1dXxHm",
        "colab_type": "code",
        "colab": {}
      },
      "source": [
        "def train_and_predict(model):\n",
        "  model_trained = train_model(model, X_train, y_train)\n",
        "  return predict(model_trained, X_test, y_test)"
      ],
      "execution_count": 0,
      "outputs": []
    },
    {
      "cell_type": "code",
      "metadata": {
        "id": "61dYsYX7UYVq",
        "colab_type": "code",
        "outputId": "4f48d8f5-a51a-43d4-e0ee-f04cb78339fa",
        "colab": {
          "base_uri": "https://localhost:8080/",
          "height": 201
        }
      },
      "source": [
        "def get_cnn_v2(input_shape, num_classes):\n",
        "  return Sequential([\n",
        "    Conv2D(filters=32, kernel_size=(3,3), activation='relu', input_shape = input_shape),\n",
        "    MaxPool2D(),\n",
        "    Dropout(0.3),\n",
        "\n",
        "    Conv2D(filters=64, kernel_size=(3,3), activation='relu'),\n",
        "    MaxPool2D(),\n",
        "    Dropout(0.3),\n",
        "\n",
        "    Flatten(),\n",
        "\n",
        "    Dense(units = 1024, activation='relu'),  \n",
        "    Dropout(0.3),\n",
        "    Dense(units = num_classes, activation='softmax'),                \n",
        "  ])\n",
        "\n",
        "\n",
        "train_and_predict(get_cnn_v2(input_shape, num_classes))"
      ],
      "execution_count": 28,
      "outputs": [
        {
          "output_type": "stream",
          "text": [
            "Epoch 1/5\n",
            "272/272 [==============================] - 4s 14ms/step - loss: 4.9316 - accuracy: 0.3138 - val_loss: 0.9901 - val_accuracy: 0.7574\n",
            "Epoch 2/5\n",
            "272/272 [==============================] - 4s 13ms/step - loss: 0.9490 - accuracy: 0.7171 - val_loss: 0.3446 - val_accuracy: 0.9259\n",
            "Epoch 3/5\n",
            "272/272 [==============================] - 4s 13ms/step - loss: 0.5339 - accuracy: 0.8384 - val_loss: 0.1932 - val_accuracy: 0.9624\n",
            "Epoch 4/5\n",
            "272/272 [==============================] - 4s 13ms/step - loss: 0.3694 - accuracy: 0.8897 - val_loss: 0.1021 - val_accuracy: 0.9733\n",
            "Epoch 5/5\n",
            "272/272 [==============================] - 4s 13ms/step - loss: 0.2860 - accuracy: 0.9140 - val_loss: 0.0838 - val_accuracy: 0.9840\n"
          ],
          "name": "stdout"
        },
        {
          "output_type": "execute_result",
          "data": {
            "text/plain": [
              "0.8943310657596372"
            ]
          },
          "metadata": {
            "tags": []
          },
          "execution_count": 28
        }
      ]
    },
    {
      "cell_type": "code",
      "metadata": {
        "id": "yiyFUPJbUYYG",
        "colab_type": "code",
        "outputId": "78cee4ca-fce4-4259-b461-98be38e875d3",
        "colab": {
          "base_uri": "https://localhost:8080/",
          "height": 201
        }
      },
      "source": [
        "def get_cnn_v3(input_shape, num_classes):\n",
        "  return Sequential([\n",
        "    Conv2D(filters=32, kernel_size=(3,3), activation='relu', input_shape = input_shape),\n",
        "    Conv2D(filters=32, kernel_size=(3,3), activation='relu'),\n",
        "    MaxPool2D(),\n",
        "    Dropout(0.3),\n",
        "\n",
        "    Conv2D(filters=64, kernel_size=(3,3), activation='relu'),\n",
        "    Conv2D(filters=64, kernel_size=(3,3), activation='relu'),\n",
        "    MaxPool2D(),\n",
        "    Dropout(0.3),\n",
        "\n",
        "    Flatten(),\n",
        "\n",
        "    Dense(units = 1024, activation='relu'),  \n",
        "    Dropout(0.3),\n",
        "    Dense(units = num_classes, activation='softmax'),                \n",
        "  ])\n",
        "\n",
        "\n",
        "train_and_predict(get_cnn_v3(input_shape, num_classes))"
      ],
      "execution_count": 29,
      "outputs": [
        {
          "output_type": "stream",
          "text": [
            "Epoch 1/5\n",
            "272/272 [==============================] - 5s 19ms/step - loss: 2.4989 - accuracy: 0.4902 - val_loss: 0.3509 - val_accuracy: 0.9120\n",
            "Epoch 2/5\n",
            "272/272 [==============================] - 5s 18ms/step - loss: 0.4626 - accuracy: 0.8675 - val_loss: 0.0990 - val_accuracy: 0.9780\n",
            "Epoch 3/5\n",
            "272/272 [==============================] - 5s 18ms/step - loss: 0.2619 - accuracy: 0.9236 - val_loss: 0.0524 - val_accuracy: 0.9868\n",
            "Epoch 4/5\n",
            "272/272 [==============================] - 5s 18ms/step - loss: 0.1893 - accuracy: 0.9453 - val_loss: 0.0364 - val_accuracy: 0.9905\n",
            "Epoch 5/5\n",
            "272/272 [==============================] - 5s 18ms/step - loss: 0.1341 - accuracy: 0.9598 - val_loss: 0.0194 - val_accuracy: 0.9954\n"
          ],
          "name": "stdout"
        },
        {
          "output_type": "execute_result",
          "data": {
            "text/plain": [
              "0.9659863945578231"
            ]
          },
          "metadata": {
            "tags": []
          },
          "execution_count": 29
        }
      ]
    },
    {
      "cell_type": "code",
      "metadata": {
        "id": "zk0zwVa-UYac",
        "colab_type": "code",
        "outputId": "9b1617fe-856b-48c0-f864-33e8b7271272",
        "colab": {
          "base_uri": "https://localhost:8080/",
          "height": 688
        }
      },
      "source": [
        "def get_cnn_v4(input_shape, num_classes):\n",
        "  return Sequential([\n",
        "    Conv2D(filters=32, kernel_size=(3,3), activation='relu', input_shape = input_shape),\n",
        "    Conv2D(filters=32, kernel_size=(3,3), activation='relu', padding='same'),\n",
        "    MaxPool2D(),\n",
        "    Dropout(0.3),\n",
        "\n",
        "    Conv2D(filters=64, kernel_size=(3,3), activation='relu', padding='same'),\n",
        "    Conv2D(filters=64, kernel_size=(3,3), activation='relu'),\n",
        "    MaxPool2D(),\n",
        "    Dropout(0.3),\n",
        "\n",
        "    Conv2D(filters=64, kernel_size=(3,3), activation='relu', padding='same'),\n",
        "    Conv2D(filters=64, kernel_size=(3,3), activation='relu'),\n",
        "    MaxPool2D(),\n",
        "    Dropout(0.3),\n",
        "\n",
        "    Flatten(),\n",
        "\n",
        "    Dense(units = 1024, activation='relu'),  \n",
        "    Dropout(0.3),\n",
        "    Dense(units = num_classes, activation='softmax'),                \n",
        "  ])\n",
        "\n",
        "\n",
        "get_cnn_v4(input_shape, num_classes).summary()\n",
        "# train_and_predict(get_cnn_v4(input_shape, num_classes))"
      ],
      "execution_count": 30,
      "outputs": [
        {
          "output_type": "stream",
          "text": [
            "Model: \"sequential_4\"\n",
            "_________________________________________________________________\n",
            "Layer (type)                 Output Shape              Param #   \n",
            "=================================================================\n",
            "conv2d_8 (Conv2D)            (None, 30, 30, 32)        896       \n",
            "_________________________________________________________________\n",
            "conv2d_9 (Conv2D)            (None, 30, 30, 32)        9248      \n",
            "_________________________________________________________________\n",
            "max_pooling2d_4 (MaxPooling2 (None, 15, 15, 32)        0         \n",
            "_________________________________________________________________\n",
            "dropout_6 (Dropout)          (None, 15, 15, 32)        0         \n",
            "_________________________________________________________________\n",
            "conv2d_10 (Conv2D)           (None, 15, 15, 64)        18496     \n",
            "_________________________________________________________________\n",
            "conv2d_11 (Conv2D)           (None, 13, 13, 64)        36928     \n",
            "_________________________________________________________________\n",
            "max_pooling2d_5 (MaxPooling2 (None, 6, 6, 64)          0         \n",
            "_________________________________________________________________\n",
            "dropout_7 (Dropout)          (None, 6, 6, 64)          0         \n",
            "_________________________________________________________________\n",
            "conv2d_12 (Conv2D)           (None, 6, 6, 64)          36928     \n",
            "_________________________________________________________________\n",
            "conv2d_13 (Conv2D)           (None, 4, 4, 64)          36928     \n",
            "_________________________________________________________________\n",
            "max_pooling2d_6 (MaxPooling2 (None, 2, 2, 64)          0         \n",
            "_________________________________________________________________\n",
            "dropout_8 (Dropout)          (None, 2, 2, 64)          0         \n",
            "_________________________________________________________________\n",
            "flatten_4 (Flatten)          (None, 256)               0         \n",
            "_________________________________________________________________\n",
            "dense_6 (Dense)              (None, 1024)              263168    \n",
            "_________________________________________________________________\n",
            "dropout_9 (Dropout)          (None, 1024)              0         \n",
            "_________________________________________________________________\n",
            "dense_7 (Dense)              (None, 43)                44075     \n",
            "=================================================================\n",
            "Total params: 446,667\n",
            "Trainable params: 446,667\n",
            "Non-trainable params: 0\n",
            "_________________________________________________________________\n"
          ],
          "name": "stdout"
        }
      ]
    },
    {
      "cell_type": "code",
      "metadata": {
        "id": "q1pHDyBiUYcw",
        "colab_type": "code",
        "outputId": "4e157ed2-69e0-4bde-f5a2-cc01ffb93fd1",
        "colab": {
          "base_uri": "https://localhost:8080/",
          "height": 201
        }
      },
      "source": [
        "def get_cnn_v4(input_shape, num_classes):\n",
        "  return Sequential([\n",
        "    Conv2D(filters=32, kernel_size=(3,3), activation='relu', input_shape = input_shape),\n",
        "    Conv2D(filters=32, kernel_size=(3,3), activation='relu', padding='same'),\n",
        "    MaxPool2D(),\n",
        "    Dropout(0.3),\n",
        "\n",
        "    Conv2D(filters=64, kernel_size=(3,3), activation='relu', padding='same'),\n",
        "    Conv2D(filters=64, kernel_size=(3,3), activation='relu'),\n",
        "    MaxPool2D(),\n",
        "    Dropout(0.3),\n",
        "\n",
        "    Conv2D(filters=64, kernel_size=(3,3), activation='relu', padding='same'),\n",
        "    Conv2D(filters=64, kernel_size=(3,3), activation='relu'),\n",
        "    MaxPool2D(),\n",
        "    Dropout(0.3),\n",
        "\n",
        "    Flatten(),\n",
        "\n",
        "    Dense(units = 1024, activation='relu'),  \n",
        "    Dropout(0.3),\n",
        "    Dense(units = num_classes, activation='softmax'),                \n",
        "  ])\n",
        "\n",
        "\n",
        "train_and_predict(get_cnn_v4(input_shape, num_classes))"
      ],
      "execution_count": 31,
      "outputs": [
        {
          "output_type": "stream",
          "text": [
            "Epoch 1/5\n",
            "272/272 [==============================] - 6s 22ms/step - loss: 3.0456 - accuracy: 0.2210 - val_loss: 1.3535 - val_accuracy: 0.5738\n",
            "Epoch 2/5\n",
            "272/272 [==============================] - 6s 21ms/step - loss: 1.0598 - accuracy: 0.6730 - val_loss: 0.3043 - val_accuracy: 0.9176\n",
            "Epoch 3/5\n",
            "272/272 [==============================] - 6s 21ms/step - loss: 0.4810 - accuracy: 0.8509 - val_loss: 0.1119 - val_accuracy: 0.9678\n",
            "Epoch 4/5\n",
            "272/272 [==============================] - 6s 20ms/step - loss: 0.3107 - accuracy: 0.9022 - val_loss: 0.0870 - val_accuracy: 0.9767\n",
            "Epoch 5/5\n",
            "272/272 [==============================] - 6s 21ms/step - loss: 0.2324 - accuracy: 0.9287 - val_loss: 0.0457 - val_accuracy: 0.9874\n"
          ],
          "name": "stdout"
        },
        {
          "output_type": "execute_result",
          "data": {
            "text/plain": [
              "0.9616780045351474"
            ]
          },
          "metadata": {
            "tags": []
          },
          "execution_count": 31
        }
      ]
    },
    {
      "cell_type": "code",
      "metadata": {
        "id": "sMsbVDy5UYe8",
        "colab_type": "code",
        "outputId": "a5b24e88-fc3c-4ac1-bf35-04060889772d",
        "colab": {
          "base_uri": "https://localhost:8080/",
          "height": 201
        }
      },
      "source": [
        "def get_cnn_v5(input_shape, num_classes):\n",
        "  return Sequential([\n",
        "    Conv2D(filters=32, kernel_size=(3,3), activation='relu', input_shape = input_shape),\n",
        "    Conv2D(filters=32, kernel_size=(3,3), activation='relu', padding='same'),\n",
        "    MaxPool2D(),\n",
        "    Dropout(0.3),\n",
        "\n",
        "    Conv2D(filters=64, kernel_size=(3,3), activation='relu', padding='same'),\n",
        "    Conv2D(filters=64, kernel_size=(3,3), activation='relu'),\n",
        "    MaxPool2D(),\n",
        "    Dropout(0.3),\n",
        "\n",
        "    Conv2D(filters=64, kernel_size=(3,3), activation='relu', padding='same'),\n",
        "    Conv2D(filters=64, kernel_size=(3,3), activation='relu'),\n",
        "    MaxPool2D(),\n",
        "    Dropout(0.3),\n",
        "\n",
        "    Flatten(),\n",
        "\n",
        "    Dense(units = 1024, activation='relu'),  \n",
        "    Dropout(0.3),\n",
        "\n",
        "    Dense(units = 1024, activation='relu'),  \n",
        "    Dropout(0.3),\n",
        "\n",
        "    Dense(units = num_classes, activation='softmax'),                \n",
        "  ])\n",
        "\n",
        "# get_cnn_v5((32,32,1), num_classes).summary()\n",
        "train_and_predict(get_cnn_v5(input_shape, num_classes))"
      ],
      "execution_count": 32,
      "outputs": [
        {
          "output_type": "stream",
          "text": [
            "Epoch 1/5\n",
            "272/272 [==============================] - 6s 22ms/step - loss: 3.0055 - accuracy: 0.2288 - val_loss: 1.3369 - val_accuracy: 0.5617\n",
            "Epoch 2/5\n",
            "272/272 [==============================] - 6s 22ms/step - loss: 1.1298 - accuracy: 0.6366 - val_loss: 0.3415 - val_accuracy: 0.8920\n",
            "Epoch 3/5\n",
            "272/272 [==============================] - 6s 22ms/step - loss: 0.5255 - accuracy: 0.8338 - val_loss: 0.1301 - val_accuracy: 0.9641\n",
            "Epoch 4/5\n",
            "272/272 [==============================] - 6s 22ms/step - loss: 0.3120 - accuracy: 0.9047 - val_loss: 0.0664 - val_accuracy: 0.9810\n",
            "Epoch 5/5\n",
            "272/272 [==============================] - 6s 22ms/step - loss: 0.2241 - accuracy: 0.9324 - val_loss: 0.0470 - val_accuracy: 0.9876\n"
          ],
          "name": "stdout"
        },
        {
          "output_type": "execute_result",
          "data": {
            "text/plain": [
              "0.9625850340136054"
            ]
          },
          "metadata": {
            "tags": []
          },
          "execution_count": 32
        }
      ]
    },
    {
      "cell_type": "code",
      "metadata": {
        "id": "JsP5ShwyUYhO",
        "colab_type": "code",
        "outputId": "b56125fd-3fd7-4953-bae0-a6d39fb45857",
        "colab": {
          "base_uri": "https://localhost:8080/",
          "height": 33
        }
      },
      "source": [
        "X_train[0].shape"
      ],
      "execution_count": 33,
      "outputs": [
        {
          "output_type": "execute_result",
          "data": {
            "text/plain": [
              "(32, 32, 3)"
            ]
          },
          "metadata": {
            "tags": []
          },
          "execution_count": 33
        }
      ]
    },
    {
      "cell_type": "code",
      "metadata": {
        "id": "iXj2m1u9UYjV",
        "colab_type": "code",
        "outputId": "3d8f2beb-4c0e-43dd-fcda-e70fd4697069",
        "colab": {
          "base_uri": "https://localhost:8080/",
          "height": 33
        }
      },
      "source": [
        "color.rgb2gray(X_train[0]).shape"
      ],
      "execution_count": 34,
      "outputs": [
        {
          "output_type": "execute_result",
          "data": {
            "text/plain": [
              "(32, 32)"
            ]
          },
          "metadata": {
            "tags": []
          },
          "execution_count": 34
        }
      ]
    },
    {
      "cell_type": "code",
      "metadata": {
        "id": "lu-9hmLWUYn9",
        "colab_type": "code",
        "outputId": "05019c38-b335-44f2-9c29-72c1ee19e7b6",
        "colab": {
          "base_uri": "https://localhost:8080/",
          "height": 283
        }
      },
      "source": [
        "plt.imshow(color.rgb2gray(X_train[0]))"
      ],
      "execution_count": 35,
      "outputs": [
        {
          "output_type": "execute_result",
          "data": {
            "text/plain": [
              "<matplotlib.image.AxesImage at 0x7ff88ab66278>"
            ]
          },
          "metadata": {
            "tags": []
          },
          "execution_count": 35
        },
        {
          "output_type": "display_data",
          "data": {
            "image/png": "[encoded data removed]",
            "text/plain": [
              "<Figure size 432x288 with 1 Axes>"
            ]
          },
          "metadata": {
            "tags": []
          }
        }
      ]
    },
    {
      "cell_type": "code",
      "metadata": {
        "id": "C003DNTTUYvU",
        "colab_type": "code",
        "colab": {}
      },
      "source": [
        "X_train_gray = color.rgb2gray(X_train).reshape(-1,32,32,1)\n",
        "X_test_gray = color.rgb2gray(X_test).reshape(-1,32,32,1)"
      ],
      "execution_count": 0,
      "outputs": []
    },
    {
      "cell_type": "code",
      "metadata": {
        "id": "QdjxdAwbUYxH",
        "colab_type": "code",
        "outputId": "60a385e1-bafa-4878-b3ff-74cc54454b12",
        "colab": {
          "base_uri": "https://localhost:8080/",
          "height": 201
        }
      },
      "source": [
        "model = get_cnn_v5((32,32,1), num_classes)\n",
        "model_trained = train_model(model, X_train_gray, y_train, params_fit={})\n",
        "predict(model_trained, X_test_gray, y_test)"
      ],
      "execution_count": 37,
      "outputs": [
        {
          "output_type": "stream",
          "text": [
            "Epoch 1/5\n",
            "272/272 [==============================] - 6s 23ms/step - loss: 2.8499 - accuracy: 0.2021 - val_loss: 1.0226 - val_accuracy: 0.6794\n",
            "Epoch 2/5\n",
            "272/272 [==============================] - 6s 22ms/step - loss: 0.6382 - accuracy: 0.7876 - val_loss: 0.1499 - val_accuracy: 0.9516\n",
            "Epoch 3/5\n",
            "272/272 [==============================] - 6s 22ms/step - loss: 0.2653 - accuracy: 0.9138 - val_loss: 0.0592 - val_accuracy: 0.9852\n",
            "Epoch 4/5\n",
            "272/272 [==============================] - 6s 22ms/step - loss: 0.1785 - accuracy: 0.9445 - val_loss: 0.0483 - val_accuracy: 0.9856\n",
            "Epoch 5/5\n",
            "272/272 [==============================] - 6s 22ms/step - loss: 0.1315 - accuracy: 0.9584 - val_loss: 0.0258 - val_accuracy: 0.9933\n"
          ],
          "name": "stdout"
        },
        {
          "output_type": "execute_result",
          "data": {
            "text/plain": [
              "0.9707482993197278"
            ]
          },
          "metadata": {
            "tags": []
          },
          "execution_count": 37
        }
      ]
    },
    {
      "cell_type": "code",
      "metadata": {
        "id": "ajEmNqCKUYz4",
        "colab_type": "code",
        "outputId": "03041779-d393-4d34-905d-41133e282759",
        "colab": {
          "base_uri": "https://localhost:8080/",
          "height": 201
        }
      },
      "source": [
        "def get_cnn_v6(input_shape, num_classes):\n",
        "  return Sequential([\n",
        "    Conv2D(filters=64, kernel_size=(3,3), activation='relu', input_shape = input_shape),\n",
        "    Conv2D(filters=64, kernel_size=(3,3), activation='relu', padding='same'),\n",
        "    MaxPool2D(),\n",
        "    Dropout(0.4),\n",
        "\n",
        "    Conv2D(filters=128, kernel_size=(3,3), activation='relu', padding='same'),\n",
        "    Conv2D(filters=128, kernel_size=(3,3), activation='relu'),\n",
        "    MaxPool2D(),\n",
        "    Dropout(0.3),\n",
        "\n",
        "    Conv2D(filters=128, kernel_size=(3,3), activation='relu', padding='same'),\n",
        "    Conv2D(filters=128, kernel_size=(3,3), activation='relu'),\n",
        "    MaxPool2D(),\n",
        "    Dropout(0.3),\n",
        "\n",
        "    Flatten(),\n",
        "\n",
        "    Dense(units = 1024, activation='relu'),  \n",
        "    Dropout(0.3),\n",
        "\n",
        "    Dense(units = 1024, activation='relu'),  \n",
        "    Dropout(0.3),\n",
        "\n",
        "    Dense(units = num_classes, activation='softmax'),                \n",
        "  ])\n",
        "\n",
        "# get_cnn_v6((32,32,1), num_classes).summary()\n",
        "model = get_cnn_v6((32,32,1), num_classes)\n",
        "model_trained = train_model(model, X_train_gray, y_train, params_fit={})\n",
        "predict(model_trained, X_test_gray, y_test)"
      ],
      "execution_count": 38,
      "outputs": [
        {
          "output_type": "stream",
          "text": [
            "Epoch 1/5\n",
            "272/272 [==============================] - 12s 42ms/step - loss: 3.0866 - accuracy: 0.1564 - val_loss: 1.2032 - val_accuracy: 0.6390\n",
            "Epoch 2/5\n",
            "272/272 [==============================] - 11s 40ms/step - loss: 0.6198 - accuracy: 0.8018 - val_loss: 0.1126 - val_accuracy: 0.9658\n",
            "Epoch 3/5\n",
            "272/272 [==============================] - 11s 40ms/step - loss: 0.2132 - accuracy: 0.9335 - val_loss: 0.0481 - val_accuracy: 0.9855\n",
            "Epoch 4/5\n",
            "272/272 [==============================] - 11s 40ms/step - loss: 0.1255 - accuracy: 0.9611 - val_loss: 0.0283 - val_accuracy: 0.9920\n",
            "Epoch 5/5\n",
            "272/272 [==============================] - 11s 40ms/step - loss: 0.0982 - accuracy: 0.9695 - val_loss: 0.0257 - val_accuracy: 0.9922\n"
          ],
          "name": "stdout"
        },
        {
          "output_type": "execute_result",
          "data": {
            "text/plain": [
              "0.9571428571428572"
            ]
          },
          "metadata": {
            "tags": []
          },
          "execution_count": 38
        }
      ]
    },
    {
      "cell_type": "code",
      "metadata": {
        "id": "48ErwYtYUY1_",
        "colab_type": "code",
        "outputId": "0d0ec70e-79df-42ed-b320-148e963c0f00",
        "colab": {
          "base_uri": "https://localhost:8080/",
          "height": 369
        }
      },
      "source": [
        "def get_cnn_v7(input_shape, num_classes):\n",
        "    return Sequential([\n",
        "    Conv2D(filters=64, kernel_size=(3,3), activation='relu', input_shape = input_shape),\n",
        "    Conv2D(filters=64, kernel_size=(3,3), activation='relu', padding='same'),\n",
        "    MaxPool2D(),\n",
        "    Dropout(0.4),\n",
        "\n",
        "    Conv2D(filters=128, kernel_size=(3,3), activation='relu', padding='same'),\n",
        "    Conv2D(filters=128, kernel_size=(3,3), activation='relu'),\n",
        "    MaxPool2D(),\n",
        "    Dropout(0.3),\n",
        "\n",
        "    Conv2D(filters=128, kernel_size=(3,3), activation='relu', padding='same'),\n",
        "    Conv2D(filters=128, kernel_size=(3,3), activation='relu'),\n",
        "    MaxPool2D(),\n",
        "    Dropout(0.3),\n",
        "\n",
        "    Flatten(),\n",
        "\n",
        "    Dense(units = 1024, activation='relu'),  \n",
        "    Dropout(0.3),\n",
        "\n",
        "    Dense(units = 1024, activation='relu'),  \n",
        "    Dropout(0.3),\n",
        "\n",
        "    Dense(units = num_classes, activation='softmax'),                \n",
        "  ])\n",
        "\n",
        "# get_cnn_v7((32,32,1), num_classes).summary()\n",
        "model = get_cnn_v7((32,32,1), num_classes)\n",
        "params_fit = {\n",
        "    'epochs': 10\n",
        "}\n",
        "model_trained = train_model(model, X_train_gray, y_train, params_fit)\n",
        "predict(model_trained, X_test_gray, y_test)"
      ],
      "execution_count": 39,
      "outputs": [
        {
          "output_type": "stream",
          "text": [
            "Epoch 1/10\n",
            "272/272 [==============================] - 11s 41ms/step - loss: 2.9072 - accuracy: 0.2018 - val_loss: 0.5761 - val_accuracy: 0.8307\n",
            "Epoch 2/10\n",
            "272/272 [==============================] - 11s 40ms/step - loss: 0.3958 - accuracy: 0.8734 - val_loss: 0.0726 - val_accuracy: 0.9770\n",
            "Epoch 3/10\n",
            "272/272 [==============================] - 11s 40ms/step - loss: 0.1614 - accuracy: 0.9502 - val_loss: 0.0366 - val_accuracy: 0.9889\n",
            "Epoch 4/10\n",
            "272/272 [==============================] - 11s 40ms/step - loss: 0.1077 - accuracy: 0.9665 - val_loss: 0.0234 - val_accuracy: 0.9930\n",
            "Epoch 5/10\n",
            "272/272 [==============================] - 11s 40ms/step - loss: 0.0760 - accuracy: 0.9770 - val_loss: 0.0098 - val_accuracy: 0.9972\n",
            "Epoch 6/10\n",
            "272/272 [==============================] - 11s 40ms/step - loss: 0.0647 - accuracy: 0.9804 - val_loss: 0.0117 - val_accuracy: 0.9968\n",
            "Epoch 7/10\n",
            "272/272 [==============================] - 11s 40ms/step - loss: 0.0599 - accuracy: 0.9820 - val_loss: 0.0107 - val_accuracy: 0.9970\n",
            "Epoch 8/10\n",
            "272/272 [==============================] - 11s 40ms/step - loss: 0.0514 - accuracy: 0.9836 - val_loss: 0.0082 - val_accuracy: 0.9979\n",
            "Epoch 9/10\n",
            "272/272 [==============================] - 11s 40ms/step - loss: 0.0451 - accuracy: 0.9866 - val_loss: 0.0051 - val_accuracy: 0.9986\n",
            "Epoch 10/10\n",
            "272/272 [==============================] - 11s 40ms/step - loss: 0.0513 - accuracy: 0.9837 - val_loss: 0.0092 - val_accuracy: 0.9970\n"
          ],
          "name": "stdout"
        },
        {
          "output_type": "execute_result",
          "data": {
            "text/plain": [
              "0.9696145124716553"
            ]
          },
          "metadata": {
            "tags": []
          },
          "execution_count": 39
        }
      ]
    },
    {
      "cell_type": "code",
      "metadata": {
        "id": "7ZRfgLaFUY4I",
        "colab_type": "code",
        "outputId": "35887765-60c3-4fab-9d67-e1d177cad13a",
        "colab": {
          "base_uri": "https://localhost:8080/",
          "height": 266
        }
      },
      "source": [
        "plt.imshow(color.rgb2gray(X_train[0]), cmap=plt.get_cmap('gray'));"
      ],
      "execution_count": 40,
      "outputs": [
        {
          "output_type": "display_data",
          "data": {
            "image/png": "[encoded data removed]",
            "text/plain": [
              "<Figure size 432x288 with 1 Axes>"
            ]
          },
          "metadata": {
            "tags": []
          }
        }
      ]
    }
  ]
}